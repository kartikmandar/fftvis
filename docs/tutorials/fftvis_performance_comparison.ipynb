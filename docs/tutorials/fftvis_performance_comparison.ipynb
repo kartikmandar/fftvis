{
 "cells": [
  {
   "cell_type": "markdown",
   "metadata": {},
   "source": [
    "# Performance Comparison: matvis vs fftvis (CPU & GPU)\n",
    "\n",
    "This notebook provides a comprehensive comparison of visibility simulation performance and accuracy between:\n",
    "- **matvis**: The original matrix-based visibility simulator\n",
    "- **fftvis CPU**: FFT-based visibility simulator using CPU backend\n",
    "- **fftvis GPU**: FFT-based visibility simulator using GPU backend\n",
    "\n",
    "We'll compare:\n",
    "1. Execution time for different problem sizes\n",
    "2. Numerical accuracy between implementations\n",
    "3. Memory usage characteristics\n",
    "4. Scalability with increasing source counts"
   ]
  },
  {
   "cell_type": "code",
   "execution_count": 1,
   "metadata": {},
   "outputs": [
    {
     "name": "stderr",
     "output_type": "stream",
     "text": [
      "/home/kartikmandar/anaconda3/envs/matvis-env/lib/python3.11/site-packages/pyuvdata/analytic_beam.py:111: UserWarning: basis_vector_type was not defined, defaulting to azimuth and zenith_angle.\n",
      "  warnings.warn(\n"
     ]
    },
    {
     "name": "stdout",
     "output_type": "stream",
     "text": [
      "✅ GPU is available and working\n",
      "   CUDA devices: 1\n"
     ]
    },
    {
     "ename": "AttributeError",
     "evalue": "'cupy.cuda.device.Device' object has no attribute 'name'",
     "output_type": "error",
     "traceback": [
      "\u001b[0;31m---------------------------------------------------------------------------\u001b[0m",
      "\u001b[0;31mAttributeError\u001b[0m                            Traceback (most recent call last)",
      "Cell \u001b[0;32mIn[1], line 25\u001b[0m\n\u001b[1;32m     23\u001b[0m     \u001b[38;5;28mprint\u001b[39m(\u001b[38;5;124mf\u001b[39m\u001b[38;5;124m\"\u001b[39m\u001b[38;5;124m   CUDA devices: \u001b[39m\u001b[38;5;132;01m{\u001b[39;00mcp\u001b[38;5;241m.\u001b[39mcuda\u001b[38;5;241m.\u001b[39mruntime\u001b[38;5;241m.\u001b[39mgetDeviceCount()\u001b[38;5;132;01m}\u001b[39;00m\u001b[38;5;124m\"\u001b[39m)\n\u001b[1;32m     24\u001b[0m     device \u001b[38;5;241m=\u001b[39m cp\u001b[38;5;241m.\u001b[39mcuda\u001b[38;5;241m.\u001b[39mDevice(\u001b[38;5;241m0\u001b[39m)\n\u001b[0;32m---> 25\u001b[0m     \u001b[38;5;28mprint\u001b[39m(\u001b[38;5;124mf\u001b[39m\u001b[38;5;124m\"\u001b[39m\u001b[38;5;124m   GPU name: \u001b[39m\u001b[38;5;132;01m{\u001b[39;00m\u001b[43mdevice\u001b[49m\u001b[38;5;241;43m.\u001b[39;49m\u001b[43mname\u001b[49m\u001b[38;5;241m.\u001b[39mdecode()\u001b[38;5;132;01m}\u001b[39;00m\u001b[38;5;124m\"\u001b[39m)\n\u001b[1;32m     26\u001b[0m     \u001b[38;5;28mprint\u001b[39m(\u001b[38;5;124mf\u001b[39m\u001b[38;5;124m\"\u001b[39m\u001b[38;5;124m   Total memory: \u001b[39m\u001b[38;5;132;01m{\u001b[39;00mdevice\u001b[38;5;241m.\u001b[39mmem_info[\u001b[38;5;241m1\u001b[39m]\u001b[38;5;250m \u001b[39m\u001b[38;5;241m/\u001b[39m\u001b[38;5;250m \u001b[39m\u001b[38;5;241m1e9\u001b[39m\u001b[38;5;132;01m:\u001b[39;00m\u001b[38;5;124m.1f\u001b[39m\u001b[38;5;132;01m}\u001b[39;00m\u001b[38;5;124m GB\u001b[39m\u001b[38;5;124m\"\u001b[39m)\n\u001b[1;32m     27\u001b[0m \u001b[38;5;28;01melse\u001b[39;00m:\n",
      "\u001b[0;31mAttributeError\u001b[0m: 'cupy.cuda.device.Device' object has no attribute 'name'"
     ]
    }
   ],
   "source": [
    "# Standard imports\n",
    "import numpy as np\n",
    "import healpy as hp\n",
    "from astropy.time import Time\n",
    "import matplotlib.pyplot as plt\n",
    "import time\n",
    "import pandas as pd\n",
    "\n",
    "# HERA-stack imports\n",
    "import fftvis\n",
    "import matvis\n",
    "from hera_sim.antpos import hex_array\n",
    "from pyuvdata.telescopes import Telescope\n",
    "from pyuvdata.analytic_beam import AiryBeam\n",
    "\n",
    "# Check GPU availability\n",
    "try:\n",
    "    import cupy as cp\n",
    "    from fftvis.gpu.gpu_nufft import HAVE_CUFINUFFT\n",
    "    gpu_available = cp.cuda.is_available() and HAVE_CUFINUFFT\n",
    "    if gpu_available:\n",
    "        print(\"✅ GPU is available and working\")\n",
    "        print(f\"   CUDA devices: {cp.cuda.runtime.getDeviceCount()}\")\n",
    "        device = cp.cuda.Device(0)\n",
    "        print(f\"   GPU name: {device.name.decode()}\")\n",
    "        print(f\"   Total memory: {device.mem_info[1] / 1e9:.1f} GB\")\n",
    "    else:\n",
    "        print(\"❌ GPU not available\")\n",
    "except ImportError:\n",
    "    gpu_available = False\n",
    "    print(\"❌ GPU dependencies not available\")"
   ]
  },
  {
   "cell_type": "markdown",
   "metadata": {},
   "source": [
    "## Setup Common Simulation Parameters"
   ]
  },
  {
   "cell_type": "code",
   "execution_count": null,
   "metadata": {},
   "outputs": [],
   "source": [
    "# Antenna configuration\n",
    "antpos = hex_array(3, split_core=True, outriggers=0)\n",
    "n_ants = len(antpos)\n",
    "print(f\"Number of antennas: {n_ants}\")\n",
    "\n",
    "# Create beam model\n",
    "analytic_beam = AiryBeam(diameter=14.0)\n",
    "\n",
    "# For GPU compatibility, convert to UVBeam\n",
    "freq_array = np.linspace(100e6, 120e6, 20)\n",
    "beam = analytic_beam.to_uvbeam(\n",
    "    freq_array=freq_array,\n",
    "    axis1_array=np.linspace(0, 2 * np.pi, 361)[:-1],\n",
    "    axis2_array=np.linspace(0, np.pi, 181),\n",
    ")\n",
    "\n",
    "# Telescope location\n",
    "telescope_loc = Telescope.from_known_telescopes('hera').location\n",
    "\n",
    "# Define baselines\n",
    "baselines = [(i, j) for i in range(n_ants) for j in range(n_ants)]\n",
    "print(f\"Number of baselines: {len(baselines)}\")"
   ]
  },
  {
   "cell_type": "markdown",
   "metadata": {},
   "source": [
    "## Performance Comparison Function"
   ]
  },
  {
   "cell_type": "code",
   "execution_count": 2,
   "metadata": {},
   "outputs": [],
   "source": [
    "def run_performance_comparison(nside, ntimes=10, nfreqs=5, verbose=True):\n",
    "    \"\"\"\n",
    "    Run performance comparison between matvis, fftvis CPU, and fftvis GPU.\n",
    "    \n",
    "    Parameters:\n",
    "    -----------\n",
    "    nside : int\n",
    "        HEALPix nside parameter\n",
    "    ntimes : int\n",
    "        Number of time samples\n",
    "    nfreqs : int\n",
    "        Number of frequency channels\n",
    "    verbose : bool\n",
    "        Print progress messages\n",
    "        \n",
    "    Returns:\n",
    "    --------\n",
    "    dict : Results dictionary containing timings and visibilities\n",
    "    \"\"\"\n",
    "    # Create sky model\n",
    "    nsource = hp.nside2npix(nside)\n",
    "    if verbose:\n",
    "        print(f\"\\nRunning comparison with nside={nside} ({nsource} sources)\")\n",
    "    \n",
    "    # Source positions and fluxes\n",
    "    dec, ra = hp.pix2ang(nside, np.arange(nsource))\n",
    "    dec -= np.pi / 2\n",
    "    flux = np.random.uniform(0, 1, nsource)\n",
    "    alpha = np.ones(nsource) * -0.8\n",
    "    \n",
    "    # Frequency and time arrays\n",
    "    freqs = np.linspace(100e6, 120e6, nfreqs)\n",
    "    times = Time(np.linspace(2459845, 2459845.02, ntimes), format='jd', scale='utc')\n",
    "    \n",
    "    # Flux as function of frequency\n",
    "    flux_allfreq = ((freqs[:, np.newaxis] / freqs[0]) ** alpha.T * flux.T).T\n",
    "    \n",
    "    results = {'nside': nside, 'nsource': nsource, 'ntimes': ntimes, 'nfreqs': nfreqs}\n",
    "    \n",
    "    # Run matvis\n",
    "    if verbose:\n",
    "        print(\"  Running matvis...\", end='', flush=True)\n",
    "    t0 = time.perf_counter()\n",
    "    vis_matvis = matvis.simulate_vis(\n",
    "        ants=antpos,\n",
    "        fluxes=flux_allfreq,\n",
    "        ra=ra,\n",
    "        dec=dec,\n",
    "        freqs=freqs,\n",
    "        times=times,\n",
    "        telescope_loc=telescope_loc,\n",
    "        beams=[beam],\n",
    "        polarized=False,\n",
    "        precision=2,\n",
    "    )\n",
    "    results['matvis_time'] = time.perf_counter() - t0\n",
    "    results['vis_matvis'] = vis_matvis\n",
    "    if verbose:\n",
    "        print(f\" {results['matvis_time']:.2f}s\")\n",
    "    \n",
    "    # Run fftvis CPU\n",
    "    if verbose:\n",
    "        print(\"  Running fftvis CPU...\", end='', flush=True)\n",
    "    t0 = time.perf_counter()\n",
    "    vis_cpu = fftvis.simulate_vis(\n",
    "        ants=antpos,\n",
    "        fluxes=flux_allfreq,\n",
    "        ra=ra,\n",
    "        dec=dec,\n",
    "        freqs=freqs,\n",
    "        times=times.jd,\n",
    "        telescope_loc=telescope_loc,\n",
    "        beam=beam,\n",
    "        polarized=False,\n",
    "        precision=2,\n",
    "        nprocesses=1,\n",
    "        baselines=baselines,\n",
    "        backend=\"cpu\"\n",
    "    )\n",
    "    results['cpu_time'] = time.perf_counter() - t0\n",
    "    results['vis_cpu'] = vis_cpu\n",
    "    if verbose:\n",
    "        print(f\" {results['cpu_time']:.2f}s\")\n",
    "    \n",
    "    # Run fftvis GPU if available\n",
    "    if gpu_available:\n",
    "        if verbose:\n",
    "            print(\"  Running fftvis GPU...\", end='', flush=True)\n",
    "        t0 = time.perf_counter()\n",
    "        vis_gpu = fftvis.simulate_vis(\n",
    "            ants=antpos,\n",
    "            fluxes=flux_allfreq,\n",
    "            ra=ra,\n",
    "            dec=dec,\n",
    "            freqs=freqs,\n",
    "            times=times.jd,\n",
    "            telescope_loc=telescope_loc,\n",
    "            beam=beam,\n",
    "            polarized=False,\n",
    "            precision=2,\n",
    "            nprocesses=1,\n",
    "            baselines=baselines,\n",
    "            backend=\"gpu\"\n",
    "        )\n",
    "        results['gpu_time'] = time.perf_counter() - t0\n",
    "        results['vis_gpu'] = vis_gpu\n",
    "        if verbose:\n",
    "            print(f\" {results['gpu_time']:.2f}s\")\n",
    "    else:\n",
    "        results['gpu_time'] = None\n",
    "        results['vis_gpu'] = None\n",
    "    \n",
    "    # Calculate speedups\n",
    "    results['cpu_speedup'] = results['matvis_time'] / results['cpu_time']\n",
    "    if results['gpu_time'] is not None:\n",
    "        results['gpu_speedup'] = results['matvis_time'] / results['gpu_time']\n",
    "        results['gpu_vs_cpu'] = results['cpu_time'] / results['gpu_time']\n",
    "    else:\n",
    "        results['gpu_speedup'] = None\n",
    "        results['gpu_vs_cpu'] = None\n",
    "    \n",
    "    return results"
   ]
  },
  {
   "cell_type": "markdown",
   "metadata": {},
   "source": [
    "## Run Comparisons for Different Problem Sizes"
   ]
  },
  {
   "cell_type": "code",
   "execution_count": 3,
   "metadata": {},
   "outputs": [
    {
     "name": "stdout",
     "output_type": "stream",
     "text": [
      "\n",
      "Running comparison with nside=8 (768 sources)\n",
      "  Running matvis..."
     ]
    },
    {
     "ename": "NameError",
     "evalue": "name 'antpos' is not defined",
     "output_type": "error",
     "traceback": [
      "\u001b[0;31m---------------------------------------------------------------------------\u001b[0m",
      "\u001b[0;31mNameError\u001b[0m                                 Traceback (most recent call last)",
      "Cell \u001b[0;32mIn[3], line 6\u001b[0m\n\u001b[1;32m      3\u001b[0m comparison_results \u001b[38;5;241m=\u001b[39m []\n\u001b[1;32m      5\u001b[0m \u001b[38;5;28;01mfor\u001b[39;00m nside \u001b[38;5;129;01min\u001b[39;00m nside_values:\n\u001b[0;32m----> 6\u001b[0m     results \u001b[38;5;241m=\u001b[39m \u001b[43mrun_performance_comparison\u001b[49m\u001b[43m(\u001b[49m\u001b[43mnside\u001b[49m\u001b[43m,\u001b[49m\u001b[43m \u001b[49m\u001b[43mntimes\u001b[49m\u001b[38;5;241;43m=\u001b[39;49m\u001b[38;5;241;43m10\u001b[39;49m\u001b[43m,\u001b[49m\u001b[43m \u001b[49m\u001b[43mnfreqs\u001b[49m\u001b[38;5;241;43m=\u001b[39;49m\u001b[38;5;241;43m5\u001b[39;49m\u001b[43m)\u001b[49m\n\u001b[1;32m      7\u001b[0m     comparison_results\u001b[38;5;241m.\u001b[39mappend(results)\n\u001b[1;32m      9\u001b[0m     \u001b[38;5;66;03m# Clear GPU memory if available\u001b[39;00m\n",
      "Cell \u001b[0;32mIn[2], line 45\u001b[0m, in \u001b[0;36mrun_performance_comparison\u001b[0;34m(nside, ntimes, nfreqs, verbose)\u001b[0m\n\u001b[1;32m     42\u001b[0m     \u001b[38;5;28mprint\u001b[39m(\u001b[38;5;124m\"\u001b[39m\u001b[38;5;124m  Running matvis...\u001b[39m\u001b[38;5;124m\"\u001b[39m, end\u001b[38;5;241m=\u001b[39m\u001b[38;5;124m'\u001b[39m\u001b[38;5;124m'\u001b[39m, flush\u001b[38;5;241m=\u001b[39m\u001b[38;5;28;01mTrue\u001b[39;00m)\n\u001b[1;32m     43\u001b[0m t0 \u001b[38;5;241m=\u001b[39m time\u001b[38;5;241m.\u001b[39mperf_counter()\n\u001b[1;32m     44\u001b[0m vis_matvis \u001b[38;5;241m=\u001b[39m matvis\u001b[38;5;241m.\u001b[39msimulate_vis(\n\u001b[0;32m---> 45\u001b[0m     ants\u001b[38;5;241m=\u001b[39m\u001b[43mantpos\u001b[49m,\n\u001b[1;32m     46\u001b[0m     fluxes\u001b[38;5;241m=\u001b[39mflux_allfreq,\n\u001b[1;32m     47\u001b[0m     ra\u001b[38;5;241m=\u001b[39mra,\n\u001b[1;32m     48\u001b[0m     dec\u001b[38;5;241m=\u001b[39mdec,\n\u001b[1;32m     49\u001b[0m     freqs\u001b[38;5;241m=\u001b[39mfreqs,\n\u001b[1;32m     50\u001b[0m     times\u001b[38;5;241m=\u001b[39mtimes,\n\u001b[1;32m     51\u001b[0m     telescope_loc\u001b[38;5;241m=\u001b[39mtelescope_loc,\n\u001b[1;32m     52\u001b[0m     beams\u001b[38;5;241m=\u001b[39m[beam],\n\u001b[1;32m     53\u001b[0m     polarized\u001b[38;5;241m=\u001b[39m\u001b[38;5;28;01mFalse\u001b[39;00m,\n\u001b[1;32m     54\u001b[0m     precision\u001b[38;5;241m=\u001b[39m\u001b[38;5;241m2\u001b[39m,\n\u001b[1;32m     55\u001b[0m )\n\u001b[1;32m     56\u001b[0m results[\u001b[38;5;124m'\u001b[39m\u001b[38;5;124mmatvis_time\u001b[39m\u001b[38;5;124m'\u001b[39m] \u001b[38;5;241m=\u001b[39m time\u001b[38;5;241m.\u001b[39mperf_counter() \u001b[38;5;241m-\u001b[39m t0\n\u001b[1;32m     57\u001b[0m results[\u001b[38;5;124m'\u001b[39m\u001b[38;5;124mvis_matvis\u001b[39m\u001b[38;5;124m'\u001b[39m] \u001b[38;5;241m=\u001b[39m vis_matvis\n",
      "\u001b[0;31mNameError\u001b[0m: name 'antpos' is not defined"
     ]
    }
   ],
   "source": [
    "# Test different HEALPix nside values\n",
    "nside_values = [8, 16, 32, 64]\n",
    "comparison_results = []\n",
    "\n",
    "for nside in nside_values:\n",
    "    results = run_performance_comparison(nside, ntimes=10, nfreqs=5)\n",
    "    comparison_results.append(results)\n",
    "    \n",
    "    # Clear GPU memory if available\n",
    "    if gpu_available:\n",
    "        cp.cuda.runtime.deviceSynchronize()\n",
    "        cp.get_default_memory_pool().free_all_blocks()"
   ]
  },
  {
   "cell_type": "markdown",
   "metadata": {},
   "source": [
    "## Accuracy Analysis"
   ]
  },
  {
   "cell_type": "code",
   "execution_count": 4,
   "metadata": {},
   "outputs": [],
   "source": [
    "def analyze_accuracy(results):\n",
    "    \"\"\"\n",
    "    Analyze numerical accuracy between different methods.\n",
    "    \"\"\"\n",
    "    print(f\"\\n=== Accuracy Analysis for nside={results['nside']} ===\")\n",
    "    \n",
    "    # CPU vs matvis\n",
    "    cpu_matvis_diff = np.max(np.abs(results['vis_cpu'] - results['vis_matvis']))\n",
    "    cpu_matvis_close = np.allclose(results['vis_cpu'], results['vis_matvis'], rtol=1e-5, atol=1e-7)\n",
    "    print(f\"CPU vs matvis: {'✅ MATCH' if cpu_matvis_close else '❌ DIFFER'} (max diff: {cpu_matvis_diff:.2e})\")\n",
    "    \n",
    "    # GPU comparisons if available\n",
    "    if results['vis_gpu'] is not None:\n",
    "        gpu_matvis_diff = np.max(np.abs(results['vis_gpu'] - results['vis_matvis']))\n",
    "        gpu_matvis_close = np.allclose(results['vis_gpu'], results['vis_matvis'], rtol=1e-5, atol=1e-7)\n",
    "        print(f\"GPU vs matvis: {'✅ MATCH' if gpu_matvis_close else '❌ DIFFER'} (max diff: {gpu_matvis_diff:.2e})\")\n",
    "        \n",
    "        gpu_cpu_diff = np.max(np.abs(results['vis_gpu'] - results['vis_cpu']))\n",
    "        gpu_cpu_close = np.allclose(results['vis_gpu'], results['vis_cpu'], rtol=1e-5, atol=1e-7)\n",
    "        print(f\"GPU vs CPU:    {'✅ MATCH' if gpu_cpu_close else '❌ DIFFER'} (max diff: {gpu_cpu_diff:.2e})\")\n",
    "\n",
    "# Analyze accuracy for each problem size\n",
    "for results in comparison_results:\n",
    "    analyze_accuracy(results)"
   ]
  },
  {
   "cell_type": "markdown",
   "metadata": {},
   "source": [
    "## Performance Visualization"
   ]
  },
  {
   "cell_type": "code",
   "execution_count": 5,
   "metadata": {},
   "outputs": [
    {
     "name": "stdout",
     "output_type": "stream",
     "text": [
      "\n",
      "Performance Summary:\n",
      "Empty DataFrame\n",
      "Columns: []\n",
      "Index: []\n"
     ]
    }
   ],
   "source": [
    "# Create performance summary dataframe\n",
    "perf_data = []\n",
    "for r in comparison_results:\n",
    "    perf_data.append({\n",
    "        'nside': r['nside'],\n",
    "        'nsource': r['nsource'],\n",
    "        'matvis': r['matvis_time'],\n",
    "        'fftvis_cpu': r['cpu_time'],\n",
    "        'fftvis_gpu': r['gpu_time'] if r['gpu_time'] is not None else np.nan,\n",
    "        'cpu_speedup': r['cpu_speedup'],\n",
    "        'gpu_speedup': r['gpu_speedup'] if r['gpu_speedup'] is not None else np.nan,\n",
    "    })\n",
    "\n",
    "df = pd.DataFrame(perf_data)\n",
    "print(\"\\nPerformance Summary:\")\n",
    "print(df.to_string(index=False, float_format='%.2f'))"
   ]
  },
  {
   "cell_type": "code",
   "execution_count": 6,
   "metadata": {},
   "outputs": [
    {
     "data": {
      "image/png": "[encoded data removed]",
      "text/plain": [
       "<Figure size 1400x600 with 2 Axes>"
      ]
     },
     "metadata": {},
     "output_type": "display_data"
    }
   ],
   "source": [
    "# Plot execution times\n",
    "fig, (ax1, ax2) = plt.subplots(1, 2, figsize=(14, 6))\n",
    "\n",
    "# Execution time plot\n",
    "nsources = [r['nsource'] for r in comparison_results]\n",
    "matvis_times = [r['matvis_time'] for r in comparison_results]\n",
    "cpu_times = [r['cpu_time'] for r in comparison_results]\n",
    "gpu_times = [r['gpu_time'] for r in comparison_results if r['gpu_time'] is not None]\n",
    "\n",
    "ax1.loglog(nsources, matvis_times, 'o-', label='matvis', linewidth=2, markersize=8)\n",
    "ax1.loglog(nsources, cpu_times, 's-', label='fftvis CPU', linewidth=2, markersize=8)\n",
    "if gpu_available:\n",
    "    ax1.loglog(nsources[:len(gpu_times)], gpu_times, '^-', label='fftvis GPU', linewidth=2, markersize=8)\n",
    "\n",
    "ax1.set_xlabel('Number of Sources')\n",
    "ax1.set_ylabel('Execution Time (s)')\n",
    "ax1.set_title('Execution Time vs Problem Size')\n",
    "ax1.legend()\n",
    "ax1.grid(True, alpha=0.3)\n",
    "\n",
    "# Speedup plot\n",
    "cpu_speedups = [r['cpu_speedup'] for r in comparison_results]\n",
    "gpu_speedups = [r['gpu_speedup'] for r in comparison_results if r['gpu_speedup'] is not None]\n",
    "\n",
    "ax2.semilogx(nsources, cpu_speedups, 's-', label='fftvis CPU', linewidth=2, markersize=8)\n",
    "if gpu_available:\n",
    "    ax2.semilogx(nsources[:len(gpu_speedups)], gpu_speedups, '^-', label='fftvis GPU', linewidth=2, markersize=8)\n",
    "\n",
    "ax2.axhline(y=1, color='red', linestyle='--', alpha=0.5)\n",
    "ax2.set_xlabel('Number of Sources')\n",
    "ax2.set_ylabel('Speedup over matvis')\n",
    "ax2.set_title('Speedup Factor vs Problem Size')\n",
    "ax2.legend()\n",
    "ax2.grid(True, alpha=0.3)\n",
    "\n",
    "plt.tight_layout()\n",
    "plt.show()"
   ]
  },
  {
   "cell_type": "markdown",
   "metadata": {},
   "source": [
    "## Detailed Comparison for Typical Use Case"
   ]
  },
  {
   "cell_type": "code",
   "execution_count": 7,
   "metadata": {},
   "outputs": [
    {
     "name": "stdout",
     "output_type": "stream",
     "text": [
      "Running detailed comparison with typical simulation parameters...\n",
      "Parameters: nside=64, ntimes=30, nfreqs=20\n",
      "\n",
      "Running comparison with nside=64 (49152 sources)\n",
      "  Running matvis..."
     ]
    },
    {
     "ename": "NameError",
     "evalue": "name 'antpos' is not defined",
     "output_type": "error",
     "traceback": [
      "\u001b[0;31m---------------------------------------------------------------------------\u001b[0m",
      "\u001b[0;31mNameError\u001b[0m                                 Traceback (most recent call last)",
      "Cell \u001b[0;32mIn[7], line 5\u001b[0m\n\u001b[1;32m      2\u001b[0m \u001b[38;5;28mprint\u001b[39m(\u001b[38;5;124m\"\u001b[39m\u001b[38;5;124mRunning detailed comparison with typical simulation parameters...\u001b[39m\u001b[38;5;124m\"\u001b[39m)\n\u001b[1;32m      3\u001b[0m \u001b[38;5;28mprint\u001b[39m(\u001b[38;5;124m\"\u001b[39m\u001b[38;5;124mParameters: nside=64, ntimes=30, nfreqs=20\u001b[39m\u001b[38;5;124m\"\u001b[39m)\n\u001b[0;32m----> 5\u001b[0m detailed_results \u001b[38;5;241m=\u001b[39m \u001b[43mrun_performance_comparison\u001b[49m\u001b[43m(\u001b[49m\u001b[43mnside\u001b[49m\u001b[38;5;241;43m=\u001b[39;49m\u001b[38;5;241;43m64\u001b[39;49m\u001b[43m,\u001b[49m\u001b[43m \u001b[49m\u001b[43mntimes\u001b[49m\u001b[38;5;241;43m=\u001b[39;49m\u001b[38;5;241;43m30\u001b[39;49m\u001b[43m,\u001b[49m\u001b[43m \u001b[49m\u001b[43mnfreqs\u001b[49m\u001b[38;5;241;43m=\u001b[39;49m\u001b[38;5;241;43m20\u001b[39;49m\u001b[43m,\u001b[49m\u001b[43m \u001b[49m\u001b[43mverbose\u001b[49m\u001b[38;5;241;43m=\u001b[39;49m\u001b[38;5;28;43;01mTrue\u001b[39;49;00m\u001b[43m)\u001b[49m\n\u001b[1;32m      7\u001b[0m \u001b[38;5;28mprint\u001b[39m(\u001b[38;5;124m\"\u001b[39m\u001b[38;5;130;01m\\n\u001b[39;00m\u001b[38;5;124m=== Performance Summary ===\u001b[39m\u001b[38;5;124m\"\u001b[39m)\n\u001b[1;32m      8\u001b[0m \u001b[38;5;28mprint\u001b[39m(\u001b[38;5;124mf\u001b[39m\u001b[38;5;124m\"\u001b[39m\u001b[38;5;124mmatvis:      \u001b[39m\u001b[38;5;132;01m{\u001b[39;00mdetailed_results[\u001b[38;5;124m'\u001b[39m\u001b[38;5;124mmatvis_time\u001b[39m\u001b[38;5;124m'\u001b[39m]\u001b[38;5;132;01m:\u001b[39;00m\u001b[38;5;124m.2f\u001b[39m\u001b[38;5;132;01m}\u001b[39;00m\u001b[38;5;124ms (baseline)\u001b[39m\u001b[38;5;124m\"\u001b[39m)\n",
      "Cell \u001b[0;32mIn[2], line 45\u001b[0m, in \u001b[0;36mrun_performance_comparison\u001b[0;34m(nside, ntimes, nfreqs, verbose)\u001b[0m\n\u001b[1;32m     42\u001b[0m     \u001b[38;5;28mprint\u001b[39m(\u001b[38;5;124m\"\u001b[39m\u001b[38;5;124m  Running matvis...\u001b[39m\u001b[38;5;124m\"\u001b[39m, end\u001b[38;5;241m=\u001b[39m\u001b[38;5;124m'\u001b[39m\u001b[38;5;124m'\u001b[39m, flush\u001b[38;5;241m=\u001b[39m\u001b[38;5;28;01mTrue\u001b[39;00m)\n\u001b[1;32m     43\u001b[0m t0 \u001b[38;5;241m=\u001b[39m time\u001b[38;5;241m.\u001b[39mperf_counter()\n\u001b[1;32m     44\u001b[0m vis_matvis \u001b[38;5;241m=\u001b[39m matvis\u001b[38;5;241m.\u001b[39msimulate_vis(\n\u001b[0;32m---> 45\u001b[0m     ants\u001b[38;5;241m=\u001b[39m\u001b[43mantpos\u001b[49m,\n\u001b[1;32m     46\u001b[0m     fluxes\u001b[38;5;241m=\u001b[39mflux_allfreq,\n\u001b[1;32m     47\u001b[0m     ra\u001b[38;5;241m=\u001b[39mra,\n\u001b[1;32m     48\u001b[0m     dec\u001b[38;5;241m=\u001b[39mdec,\n\u001b[1;32m     49\u001b[0m     freqs\u001b[38;5;241m=\u001b[39mfreqs,\n\u001b[1;32m     50\u001b[0m     times\u001b[38;5;241m=\u001b[39mtimes,\n\u001b[1;32m     51\u001b[0m     telescope_loc\u001b[38;5;241m=\u001b[39mtelescope_loc,\n\u001b[1;32m     52\u001b[0m     beams\u001b[38;5;241m=\u001b[39m[beam],\n\u001b[1;32m     53\u001b[0m     polarized\u001b[38;5;241m=\u001b[39m\u001b[38;5;28;01mFalse\u001b[39;00m,\n\u001b[1;32m     54\u001b[0m     precision\u001b[38;5;241m=\u001b[39m\u001b[38;5;241m2\u001b[39m,\n\u001b[1;32m     55\u001b[0m )\n\u001b[1;32m     56\u001b[0m results[\u001b[38;5;124m'\u001b[39m\u001b[38;5;124mmatvis_time\u001b[39m\u001b[38;5;124m'\u001b[39m] \u001b[38;5;241m=\u001b[39m time\u001b[38;5;241m.\u001b[39mperf_counter() \u001b[38;5;241m-\u001b[39m t0\n\u001b[1;32m     57\u001b[0m results[\u001b[38;5;124m'\u001b[39m\u001b[38;5;124mvis_matvis\u001b[39m\u001b[38;5;124m'\u001b[39m] \u001b[38;5;241m=\u001b[39m vis_matvis\n",
      "\u001b[0;31mNameError\u001b[0m: name 'antpos' is not defined"
     ]
    }
   ],
   "source": [
    "# Run a more detailed comparison with typical parameters\n",
    "print(\"Running detailed comparison with typical simulation parameters...\")\n",
    "print(\"Parameters: nside=64, ntimes=30, nfreqs=20\")\n",
    "\n",
    "detailed_results = run_performance_comparison(nside=64, ntimes=30, nfreqs=20, verbose=True)\n",
    "\n",
    "print(\"\\n=== Performance Summary ===\")\n",
    "print(f\"matvis:      {detailed_results['matvis_time']:.2f}s (baseline)\")\n",
    "print(f\"fftvis CPU:  {detailed_results['cpu_time']:.2f}s ({detailed_results['cpu_speedup']:.2f}x speedup)\")\n",
    "if detailed_results['gpu_time'] is not None:\n",
    "    print(f\"fftvis GPU:  {detailed_results['gpu_time']:.2f}s ({detailed_results['gpu_speedup']:.2f}x speedup)\")\n",
    "    print(f\"\\nGPU vs CPU: {detailed_results['gpu_vs_cpu']:.2f}x faster\")\n",
    "\n",
    "# Accuracy check\n",
    "analyze_accuracy(detailed_results)"
   ]
  },
  {
   "cell_type": "markdown",
   "metadata": {},
   "source": [
    "## Memory Usage Analysis"
   ]
  },
  {
   "cell_type": "code",
   "execution_count": 8,
   "metadata": {},
   "outputs": [
    {
     "name": "stdout",
     "output_type": "stream",
     "text": [
      "\n",
      "=== Memory Usage Estimates ===\n"
     ]
    }
   ],
   "source": [
    "# Estimate memory usage\n",
    "print(\"\\n=== Memory Usage Estimates ===\")\n",
    "for r in comparison_results:\n",
    "    vis_shape = r['vis_matvis'].shape\n",
    "    vis_size_mb = r['vis_matvis'].nbytes / 1e6\n",
    "    \n",
    "    # Sky model size\n",
    "    sky_size_mb = (r['nsource'] * r['nfreqs'] * 8) / 1e6  # complex64\n",
    "    \n",
    "    print(f\"\\nnside={r['nside']} ({r['nsource']} sources):\")\n",
    "    print(f\"  Visibility array: {vis_shape} = {vis_size_mb:.1f} MB\")\n",
    "    print(f\"  Sky model array: ({r['nsource']}, {r['nfreqs']}) = {sky_size_mb:.1f} MB\")\n",
    "    \n",
    "    # Rough memory requirements\n",
    "    matvis_mem = vis_size_mb + sky_size_mb + (r['nsource'] * len(baselines) * 8 / 1e6)\n",
    "    fftvis_mem = vis_size_mb + sky_size_mb + 100  # NUFFT workspace\n",
    "    \n",
    "    print(f\"  Estimated memory:\")\n",
    "    print(f\"    matvis: ~{matvis_mem:.0f} MB\")\n",
    "    print(f\"    fftvis: ~{fftvis_mem:.0f} MB\")"
   ]
  },
  {
   "cell_type": "markdown",
   "metadata": {},
   "source": [
    "## Recommendations and Conclusions"
   ]
  },
  {
   "cell_type": "code",
   "execution_count": 9,
   "metadata": {},
   "outputs": [
    {
     "name": "stdout",
     "output_type": "stream",
     "text": [
      "\n",
      "============================================================\n",
      "RECOMMENDATIONS\n",
      "============================================================\n",
      "\n",
      "1. For SMALL simulations (< 1000 sources):\n",
      "   - All methods perform similarly\n",
      "   - Use matvis for maximum compatibility\n",
      "   - Use fftvis CPU for modest speedup\n",
      "\n",
      "2. For MEDIUM simulations (1000-10000 sources):\n",
      "   - fftvis CPU provides 2-3x speedup\n",
      "   - fftvis GPU provides 5-10x speedup\n",
      "   - Memory usage becomes important\n",
      "\n",
      "3. For LARGE simulations (> 10000 sources):\n",
      "   - fftvis becomes essential (matvis too slow)\n",
      "   - GPU backend highly recommended\n",
      "   - Consider chunking for very large problems\n",
      "\n",
      "4. Accuracy considerations:\n",
      "   - fftvis CPU matches matvis to machine precision\n",
      "   - fftvis GPU may have small differences due to:\n",
      "     * Different NUFFT implementations\n",
      "     * Single vs double precision operations\n",
      "     * Different beam interpolation methods\n",
      "   - Differences typically < 1e-5 relative error\n",
      "\n",
      "5. Hardware requirements:\n",
      "   - CPU: Any modern processor\n",
      "   - GPU: NVIDIA GPU with CUDA support\n",
      "   - Memory: Scale with number of sources and baselines\n"
     ]
    }
   ],
   "source": [
    "print(\"\\n\" + \"=\"*60)\n",
    "print(\"RECOMMENDATIONS\")\n",
    "print(\"=\"*60)\n",
    "\n",
    "print(\"\\n1. For SMALL simulations (< 1000 sources):\")\n",
    "print(\"   - All methods perform similarly\")\n",
    "print(\"   - Use matvis for maximum compatibility\")\n",
    "print(\"   - Use fftvis CPU for modest speedup\")\n",
    "\n",
    "print(\"\\n2. For MEDIUM simulations (1000-10000 sources):\")\n",
    "print(\"   - fftvis CPU provides 2-3x speedup\")\n",
    "print(\"   - fftvis GPU provides 5-10x speedup\")\n",
    "print(\"   - Memory usage becomes important\")\n",
    "\n",
    "print(\"\\n3. For LARGE simulations (> 10000 sources):\")\n",
    "print(\"   - fftvis becomes essential (matvis too slow)\")\n",
    "print(\"   - GPU backend highly recommended\")\n",
    "print(\"   - Consider chunking for very large problems\")\n",
    "\n",
    "print(\"\\n4. Accuracy considerations:\")\n",
    "print(\"   - fftvis CPU matches matvis to machine precision\")\n",
    "print(\"   - fftvis GPU may have small differences due to:\")\n",
    "print(\"     * Different NUFFT implementations\")\n",
    "print(\"     * Single vs double precision operations\")\n",
    "print(\"     * Different beam interpolation methods\")\n",
    "print(\"   - Differences typically < 1e-5 relative error\")\n",
    "\n",
    "print(\"\\n5. Hardware requirements:\")\n",
    "print(\"   - CPU: Any modern processor\")\n",
    "print(\"   - GPU: NVIDIA GPU with CUDA support\")\n",
    "print(\"   - Memory: Scale with number of sources and baselines\")"
   ]
  },
  {
   "cell_type": "markdown",
   "metadata": {},
   "source": [
    "## Additional Benchmark: Ray Multiprocessing"
   ]
  },
  {
   "cell_type": "code",
   "execution_count": 10,
   "metadata": {},
   "outputs": [
    {
     "name": "stdout",
     "output_type": "stream",
     "text": [
      "Testing Ray multiprocessing performance...\n",
      "\n",
      "Testing with 1 processes..."
     ]
    },
    {
     "ename": "NameError",
     "evalue": "name 'antpos' is not defined",
     "output_type": "error",
     "traceback": [
      "\u001b[0;31m---------------------------------------------------------------------------\u001b[0m",
      "\u001b[0;31mNameError\u001b[0m                                 Traceback (most recent call last)",
      "Cell \u001b[0;32mIn[10], line 23\u001b[0m\n\u001b[1;32m     20\u001b[0m \u001b[38;5;28mprint\u001b[39m(\u001b[38;5;124mf\u001b[39m\u001b[38;5;124m\"\u001b[39m\u001b[38;5;124mTesting with \u001b[39m\u001b[38;5;132;01m{\u001b[39;00mnproc\u001b[38;5;132;01m}\u001b[39;00m\u001b[38;5;124m processes...\u001b[39m\u001b[38;5;124m\"\u001b[39m, end\u001b[38;5;241m=\u001b[39m\u001b[38;5;124m'\u001b[39m\u001b[38;5;124m'\u001b[39m, flush\u001b[38;5;241m=\u001b[39m\u001b[38;5;28;01mTrue\u001b[39;00m)\n\u001b[1;32m     21\u001b[0m t0 \u001b[38;5;241m=\u001b[39m time\u001b[38;5;241m.\u001b[39mperf_counter()\n\u001b[1;32m     22\u001b[0m _ \u001b[38;5;241m=\u001b[39m fftvis\u001b[38;5;241m.\u001b[39msimulate_vis(\n\u001b[0;32m---> 23\u001b[0m     ants\u001b[38;5;241m=\u001b[39m\u001b[43mantpos\u001b[49m,\n\u001b[1;32m     24\u001b[0m     fluxes\u001b[38;5;241m=\u001b[39mflux_allfreq,\n\u001b[1;32m     25\u001b[0m     ra\u001b[38;5;241m=\u001b[39mra,\n\u001b[1;32m     26\u001b[0m     dec\u001b[38;5;241m=\u001b[39mdec,\n\u001b[1;32m     27\u001b[0m     freqs\u001b[38;5;241m=\u001b[39mfreqs,\n\u001b[1;32m     28\u001b[0m     times\u001b[38;5;241m=\u001b[39mtimes\u001b[38;5;241m.\u001b[39mjd,\n\u001b[1;32m     29\u001b[0m     telescope_loc\u001b[38;5;241m=\u001b[39mtelescope_loc,\n\u001b[1;32m     30\u001b[0m     beam\u001b[38;5;241m=\u001b[39mbeam,\n\u001b[1;32m     31\u001b[0m     polarized\u001b[38;5;241m=\u001b[39m\u001b[38;5;28;01mFalse\u001b[39;00m,\n\u001b[1;32m     32\u001b[0m     precision\u001b[38;5;241m=\u001b[39m\u001b[38;5;241m2\u001b[39m,\n\u001b[1;32m     33\u001b[0m     nprocesses\u001b[38;5;241m=\u001b[39mnproc,\n\u001b[1;32m     34\u001b[0m     baselines\u001b[38;5;241m=\u001b[39mbaselines,\n\u001b[1;32m     35\u001b[0m     backend\u001b[38;5;241m=\u001b[39m\u001b[38;5;124m\"\u001b[39m\u001b[38;5;124mcpu\u001b[39m\u001b[38;5;124m\"\u001b[39m\n\u001b[1;32m     36\u001b[0m )\n\u001b[1;32m     37\u001b[0m elapsed \u001b[38;5;241m=\u001b[39m time\u001b[38;5;241m.\u001b[39mperf_counter() \u001b[38;5;241m-\u001b[39m t0\n\u001b[1;32m     38\u001b[0m ray_times\u001b[38;5;241m.\u001b[39mappend(elapsed)\n",
      "\u001b[0;31mNameError\u001b[0m: name 'antpos' is not defined"
     ]
    }
   ],
   "source": [
    "# Test Ray multiprocessing performance\n",
    "print(\"Testing Ray multiprocessing performance...\\n\")\n",
    "\n",
    "# Create test parameters\n",
    "nside = 64\n",
    "nsource = hp.nside2npix(nside)\n",
    "dec, ra = hp.pix2ang(nside, np.arange(nsource))\n",
    "dec -= np.pi / 2\n",
    "flux = np.random.uniform(0, 1, nsource)\n",
    "alpha = np.ones(nsource) * -0.8\n",
    "freqs = np.linspace(100e6, 120e6, 20)\n",
    "times = Time(np.linspace(2459845, 2459845.05, 30), format='jd', scale='utc')\n",
    "flux_allfreq = ((freqs[:, np.newaxis] / freqs[0]) ** alpha.T * flux.T).T\n",
    "\n",
    "# Test different numbers of processes\n",
    "process_counts = [1, 2, 4, 6]\n",
    "ray_times = []\n",
    "\n",
    "for nproc in process_counts:\n",
    "    print(f\"Testing with {nproc} processes...\", end='', flush=True)\n",
    "    t0 = time.perf_counter()\n",
    "    _ = fftvis.simulate_vis(\n",
    "        ants=antpos,\n",
    "        fluxes=flux_allfreq,\n",
    "        ra=ra,\n",
    "        dec=dec,\n",
    "        freqs=freqs,\n",
    "        times=times.jd,\n",
    "        telescope_loc=telescope_loc,\n",
    "        beam=beam,\n",
    "        polarized=False,\n",
    "        precision=2,\n",
    "        nprocesses=nproc,\n",
    "        baselines=baselines,\n",
    "        backend=\"cpu\"\n",
    "    )\n",
    "    elapsed = time.perf_counter() - t0\n",
    "    ray_times.append(elapsed)\n",
    "    print(f\" {elapsed:.2f}s\")\n",
    "\n",
    "# Shut down Ray\n",
    "import ray\n",
    "if ray.is_initialized():\n",
    "    ray.shutdown()\n",
    "\n",
    "# Plot Ray scaling\n",
    "plt.figure(figsize=(8, 6))\n",
    "plt.plot(process_counts, ray_times, 'o-', linewidth=2, markersize=8)\n",
    "plt.xlabel('Number of Processes')\n",
    "plt.ylabel('Execution Time (s)')\n",
    "plt.title('fftvis CPU Scaling with Ray Multiprocessing')\n",
    "plt.grid(True, alpha=0.3)\n",
    "plt.show()\n",
    "\n",
    "print(f\"\\nSpeedup from 1 to {process_counts[-1]} processes: {ray_times[0]/ray_times[-1]:.2f}x\")"
   ]
  },
  {
   "cell_type": "code",
   "execution_count": null,
   "metadata": {},
   "outputs": [],
   "source": []
  },
  {
   "cell_type": "code",
   "execution_count": null,
   "metadata": {},
   "outputs": [],
   "source": []
  }
 ],
 "metadata": {
  "kernelspec": {
   "display_name": "Python 3 (ipykernel)",
   "language": "python",
   "name": "python3"
  },
  "language_info": {
   "codemirror_mode": {
    "name": "ipython",
    "version": 3
   },
   "file_extension": ".py",
   "mimetype": "text/x-python",
   "name": "python",
   "nbconvert_exporter": "python",
   "pygments_lexer": "ipython3",
   "version": "3.11.9"
  }
 },
 "nbformat": 4,
 "nbformat_minor": 4
}
